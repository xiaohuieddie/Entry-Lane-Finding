{
 "cells": [
  {
   "cell_type": "code",
   "execution_count": 7,
   "metadata": {
    "collapsed": true
   },
   "outputs": [],
   "source": [
    "#importing some useful packages\n",
    "import matplotlib.pyplot as plt\n",
    "import matplotlib.image as mpimg\n",
    "import numpy as np\n",
    "import cv2\n",
    "%matplotlib inline"
   ]
  },
  {
   "cell_type": "code",
   "execution_count": 8,
   "metadata": {
    "collapsed": true
   },
   "outputs": [],
   "source": [
    "import math\n",
    "import collections      #import collections class to create a deque data structure\n",
    "previous_frames = collections.deque(maxlen = 10)  \n",
    "\n",
    "def grayscale(img):\n",
    "    \"\"\"Applies the Grayscale transform\n",
    "    This will return an image with only one color channel\n",
    "    but NOTE: to see the returned image as grayscale\n",
    "    (assuming your grayscaled image is called 'gray')\n",
    "    you should call plt.imshow(gray, cmap='gray')\"\"\"\n",
    "    return cv2.cvtColor(img, cv2.COLOR_RGB2GRAY)\n",
    "    # Or use BGR2GRAY if you read an image with cv2.imread()\n",
    "    # return cv2.cvtColor(img, cv2.COLOR_BGR2GRAY)\n",
    "    \n",
    "def canny(img, low_threshold, high_threshold):\n",
    "    \"\"\"Applies the Canny transform\"\"\"\n",
    "    return cv2.Canny(img, low_threshold, high_threshold)\n",
    "\n",
    "def gaussian_blur(img, kernel_size):\n",
    "    \"\"\"Applies a Gaussian Noise kernel\"\"\"\n",
    "    return cv2.GaussianBlur(img, (kernel_size, kernel_size), 0)\n",
    "\n",
    "def region_of_interest(img, vertices):\n",
    "    \"\"\"\n",
    "    Applies an image mask.\n",
    "    \n",
    "    Only keeps the region of the image defined by the polygon\n",
    "    formed from `vertices`. The rest of the image is set to black.\n",
    "    \"\"\"\n",
    "    #defining a blank mask to start with\n",
    "    mask = np.zeros_like(img)   \n",
    "    \n",
    "    #defining a 3 channel or 1 channel color to fill the mask with depending on the input image\n",
    "    if len(img.shape) > 2:\n",
    "        channel_count = img.shape[2]  # i.e. 3 or 4 depending on your image\n",
    "        ignore_mask_color = (255,) * channel_count\n",
    "    else:\n",
    "        ignore_mask_color = 255\n",
    "        \n",
    "    #filling pixels inside the polygon defined by \"vertices\" with the fill color    \n",
    "    cv2.fillPoly(mask, vertices, ignore_mask_color)\n",
    "    \n",
    "    #returning the image only where mask pixels are nonzero\n",
    "    masked_image = cv2.bitwise_and(img, mask)\n",
    "    return masked_image\n",
    "\n",
    "def draw_lines_challenge(img, lines, color=[255, 0, 0], thickness=10):\n",
    "    xsize = img.shape[1]\n",
    "    ysize = img.shape[0]\n",
    "    left_lines = []         #create a new list containing lines on the left\n",
    "    right_lines = []        #create a new list containing lines on the right\n",
    "    for line in lines:\n",
    "        for x1,y1,x2,y2 in line:\n",
    "            if (y2-y1)/(x2-x1) > math.tan(math.pi/9):             #if the angle is greater than 20 degree, then it belongs to one of the right lines\n",
    "                right_lines.append([x1,y1,x2,y2])\n",
    "            elif (y2-y1)/(x2-x1) < -math.tan(math.pi/9):       #otherwise the line should be on the left side\n",
    "                left_lines.append([x1,y1,x2,y2])\n",
    "            else:\n",
    "                continue              \n",
    "    #convert from list to np.array whose dimension should be (number of lines,4)\n",
    "    left = np.array(left_lines)\n",
    "    right = np.array(right_lines)\n",
    "    \n",
    "    if left.shape[0]<=1 or right.shape[0]<=1:\n",
    "        coefs = np.array([[], []])\n",
    "    else:\n",
    "        #using np.polyfit to obtain the coefficients of the linear line on each side\n",
    "        left_coefs = np.polyfit(left[:,(0,2)].ravel(), left[:,(1,3)].ravel(), 1)\n",
    "        right_coefs = np.polyfit(right[:,(0,2)].ravel(), right[:,(1,3)].ravel(), 1)\n",
    "        coefs = np.array([left_coefs, right_coefs]) \n",
    "        #get coordinate(x,y) of four points, two of which is on each sides\n",
    "        left_y1 = ysize\n",
    "        left_x1 = int(round((left_y1 - left_coefs[1]) / left_coefs[0]))\n",
    "        left_y2 = int(0.65 * ysize)\n",
    "        left_x2 = int(round((left_y2 - left_coefs[1]) / left_coefs[0]))\n",
    "    \n",
    "        right_y1 = ysize\n",
    "        right_x1 = int(round((right_y1 - right_coefs[1]) / right_coefs[0]))\n",
    "        right_y2 = int(0.65 * ysize)\n",
    "        right_x2 = int(round((right_y2 - right_coefs[1]) / right_coefs[0]))\n",
    "        #draw two lines on the image\n",
    "        cv2.line(img, (left_x1,left_y1), (left_x2,left_y2), color, thickness)\n",
    "        cv2.line(img, (right_x1,right_y1), (right_x2,right_y2), color, thickness)\n",
    "         \n",
    "    return coefs\n",
    "\n",
    "def hough_lines_challenge(img, rho, theta, threshold, min_line_len, max_line_gap):\n",
    "\n",
    "    lines = cv2.HoughLinesP(img, rho, theta, threshold, np.array([]), minLineLength=min_line_len, maxLineGap=max_line_gap)\n",
    "    line_img = np.zeros((img.shape[0], img.shape[1], 3), dtype=np.uint8)\n",
    "    coefs = draw_lines_challenge(line_img, lines)\n",
    "    \n",
    "    return line_img, coefs\n",
    "\n",
    "\n",
    "def weighted_img(img, initial_img, α=0.8, β=1, λ=0.):\n",
    "\n",
    "    return cv2.addWeighted(initial_img, α, img, β, λ)"
   ]
  },
  {
   "cell_type": "code",
   "execution_count": 9,
   "metadata": {
    "collapsed": true
   },
   "outputs": [],
   "source": [
    "# Import everything needed to edit/save/watch video clips\n",
    "from moviepy.editor import VideoFileClip\n",
    "from IPython.display import HTML"
   ]
  },
  {
   "cell_type": "code",
   "execution_count": 10,
   "metadata": {
    "collapsed": true
   },
   "outputs": [],
   "source": [
    "def process_image_challenge(image):\n",
    "    # NOTE: The output you return should be a color image (3 channel) for processing video below\n",
    "    # TODO: put your pipeline here,\n",
    "    # you should return the final output (image where lines are drawn on lanes)\n",
    "    \n",
    "    #Define the parameters which will be used later\n",
    "    low_threshold = 30\n",
    "    high_threshold = 150\n",
    "    kernel_size = 5\n",
    "    rho = 2\n",
    "    theta = np.pi/180\n",
    "    threshold =15\n",
    "    min_line_len = 40\n",
    "    max_line_gap = 20\n",
    "    color=[255, 0, 0]\n",
    "    thickness=10\n",
    "\n",
    "    xsize = image.shape[1]\n",
    "    ysize = image.shape[0]\n",
    "    vertices = np.array([[(0,ysize),(430, 0.60*ysize), (540, 0.60*ysize), (xsize,ysize)]], dtype=np.int32)\n",
    "    \n",
    "    gray = grayscale(image)\n",
    "    blur_gray = gaussian_blur(gray, kernel_size)\n",
    "    edges = canny(blur_gray, low_threshold, high_threshold)\n",
    "    masked_edges = region_of_interest(edges, vertices)\n",
    "\n",
    "    line_image, coefs = hough_lines_challenge(masked_edges, rho, theta, threshold, min_line_len, max_line_gap)\n",
    "    if coefs.size==0:      #if the array of either left side or right side is empty\n",
    "        #averaging the coefficients collected from previous 10 frames\n",
    "        previous_coefs = np.array(previous_frames)\n",
    "        left_avg = np.mean(previous_coefs[:,0,:], axis=0)\n",
    "        right_avg = np.mean(previous_coefs[:,1,:], axis=0)\n",
    "        \n",
    "        #get coordinate(x,y) of four points, two of which is on each sides\n",
    "        left_y1 = ysize\n",
    "        left_x1 = int(round((left_y1 - left_avg[1]) / left_avg[0]))\n",
    "        left_y2 = int(0.65 * ysize)\n",
    "        left_x2 = int(round((left_y2 - left_avg[1]) / left_avg[0]))\n",
    "    \n",
    "        right_y1 = ysize\n",
    "        right_x1 = int(round((right_y1 - right_avg[1]) / right_avg[0]))\n",
    "        right_y2 = int(0.65 * ysize)\n",
    "        right_x2 = int(round((right_y2 - right_avg[1]) / right_avg[0]))\n",
    "        #draw two lines on the image\n",
    "        cv2.line(line_image, (left_x1,left_y1), (left_x2,left_y2), color, thickness)\n",
    "        cv2.line(line_image, (right_x1,right_y1), (right_x2,right_y2), color, thickness)\n",
    "    else:   #if the we got lines from both sides, then we append the coefficients to the deque\n",
    "        previous_frames.append(coefs)\n",
    "        \n",
    "    result = weighted_img(line_image, image, α=0.8, β=1., λ=0.)      \n",
    "    return result"
   ]
  },
  {
   "cell_type": "code",
   "execution_count": 11,
   "metadata": {},
   "outputs": [
    {
     "name": "stdout",
     "output_type": "stream",
     "text": [
      "[MoviePy] >>>> Building video challenge1.mp4\n",
      "[MoviePy] Writing video challenge1.mp4\n"
     ]
    },
    {
     "name": "stderr",
     "output_type": "stream",
     "text": [
      "100%|██████████| 251/251 [00:19<00:00, 14.61it/s]\n"
     ]
    },
    {
     "name": "stdout",
     "output_type": "stream",
     "text": [
      "[MoviePy] Done.\n",
      "[MoviePy] >>>> Video ready: challenge1.mp4 \n",
      "\n",
      "CPU times: user 8.64 s, sys: 1.89 s, total: 10.5 s\n",
      "Wall time: 21.6 s\n"
     ]
    }
   ],
   "source": [
    "challenge_output = 'challenge1.mp4'\n",
    "## To speed up the testing process you may want to try your pipeline on a shorter subclip of the video\n",
    "## To do so add .subclip(start_second,end_second) to the end of the line below\n",
    "## Where start_second and end_second are integer values representing the start and end of the subclip\n",
    "## You may also uncomment the following line for a subclip of the first 5 seconds\n",
    "##clip3 = VideoFileClip('test_videos/challenge.mp4').subclip(0,5)\n",
    "clip3 = VideoFileClip('test_videos/challenge.mp4')\n",
    "challenge_clip = clip3.fl_image(process_image_challenge)\n",
    "%time challenge_clip.write_videofile(challenge_output, audio=False)"
   ]
  },
  {
   "cell_type": "code",
   "execution_count": 12,
   "metadata": {},
   "outputs": [
    {
     "data": {
      "text/html": [
       "\n",
       "<video width=\"960\" height=\"540\" controls>\n",
       "  <source src=\"challenge1.mp4\">\n",
       "</video>\n"
      ],
      "text/plain": [
       "<IPython.core.display.HTML object>"
      ]
     },
     "execution_count": 12,
     "metadata": {},
     "output_type": "execute_result"
    }
   ],
   "source": [
    "HTML(\"\"\"\n",
    "<video width=\"960\" height=\"540\" controls>\n",
    "  <source src=\"{0}\">\n",
    "</video>\n",
    "\"\"\".format(challenge_output))"
   ]
  },
  {
   "cell_type": "code",
   "execution_count": null,
   "metadata": {
    "collapsed": true
   },
   "outputs": [],
   "source": []
  }
 ],
 "metadata": {
  "kernelspec": {
   "display_name": "Python 3",
   "language": "python",
   "name": "python3"
  },
  "language_info": {
   "codemirror_mode": {
    "name": "ipython",
    "version": 3
   },
   "file_extension": ".py",
   "mimetype": "text/x-python",
   "name": "python",
   "nbconvert_exporter": "python",
   "pygments_lexer": "ipython3",
   "version": "3.6.1"
  }
 },
 "nbformat": 4,
 "nbformat_minor": 2
}
